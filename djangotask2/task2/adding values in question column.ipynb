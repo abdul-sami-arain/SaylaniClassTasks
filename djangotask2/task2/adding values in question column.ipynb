{
 "cells": [
  {
   "cell_type": "markdown",
   "id": "a245d93b",
   "metadata": {},
   "source": [
    "### Use jupyter notebook as Django shell by using following steps:\n",
    "- ```pip install jupyter ipython django-extensions``` <br>\n",
    "- then append ``` \"django_extensions\" ``` in file settings.py under INSTALLED_APPS section <br>\n",
    "- And then let’s run jupyter notebook by render ```python manage.py shell_plus --notebook```"
   ]
  },
  {
   "cell_type": "markdown",
   "id": "13b4eb74",
   "metadata": {},
   "source": [
    "## Import the model classes we just wrote."
   ]
  },
  {
   "cell_type": "code",
   "execution_count": 4,
   "id": "73f14580",
   "metadata": {},
   "outputs": [],
   "source": [
    "from part2.models import Choice, Question"
   ]
  },
  {
   "cell_type": "markdown",
   "id": "240465c8",
   "metadata": {},
   "source": [
    "##  No questions are in the system yet:"
   ]
  },
  {
   "cell_type": "code",
   "execution_count": 5,
   "id": "d8ec8aa9",
   "metadata": {},
   "outputs": [
    {
     "data": {
      "text/plain": [
       "<QuerySet [<Question: Question object (1)>, <Question: Question object (2)>]>"
      ]
     },
     "execution_count": 5,
     "metadata": {},
     "output_type": "execute_result"
    }
   ],
   "source": [
    "Question.objects.all()"
   ]
  },
  {
   "cell_type": "markdown",
   "id": "e380e655",
   "metadata": {},
   "source": [
    "## Create a new Question with timezone."
   ]
  },
  {
   "cell_type": "code",
   "execution_count": 6,
   "id": "ad10d080",
   "metadata": {},
   "outputs": [],
   "source": [
    "from django.utils import timezone\n",
    "q = Question(question_text=\"What's up?\", pub_date=timezone.now())"
   ]
  },
  {
   "cell_type": "markdown",
   "id": "6f942b42",
   "metadata": {},
   "source": [
    "##  Save the object into the database."
   ]
  },
  {
   "cell_type": "code",
   "execution_count": 7,
   "id": "d4869a94",
   "metadata": {},
   "outputs": [],
   "source": [
    "q.save()"
   ]
  },
  {
   "cell_type": "markdown",
   "id": "a816c569",
   "metadata": {},
   "source": [
    "## objects.all() displays all the questions in the database:"
   ]
  },
  {
   "cell_type": "code",
   "execution_count": 9,
   "id": "52501e80",
   "metadata": {},
   "outputs": [
    {
     "data": {
      "text/plain": [
       "<QuerySet [<Question: Question object (1)>, <Question: Question object (2)>, <Question: Question object (3)>]>"
      ]
     },
     "execution_count": 9,
     "metadata": {},
     "output_type": "execute_result"
    }
   ],
   "source": [
    "Question.objects.all()"
   ]
  },
  {
   "cell_type": "markdown",
   "id": "0b446287",
   "metadata": {},
   "source": [
    "## After adding __str__ fuction in models.py file each model:"
   ]
  },
  {
   "cell_type": "code",
   "execution_count": 2,
   "id": "f418ebd6",
   "metadata": {},
   "outputs": [
    {
     "data": {
      "text/plain": [
       "<QuerySet [<Question: What's new?>, <Question: What's new?>, <Question: What's up?>]>"
      ]
     },
     "execution_count": 2,
     "metadata": {},
     "output_type": "execute_result"
    }
   ],
   "source": [
    "Question.objects.all()"
   ]
  },
  {
   "cell_type": "markdown",
   "id": "7b7e7cd1",
   "metadata": {},
   "source": [
    "## keyword arguments."
   ]
  },
  {
   "cell_type": "code",
   "execution_count": 3,
   "id": "19d8d7b5",
   "metadata": {},
   "outputs": [
    {
     "data": {
      "text/plain": [
       "<QuerySet [<Question: What's new?>]>"
      ]
     },
     "execution_count": 3,
     "metadata": {},
     "output_type": "execute_result"
    }
   ],
   "source": [
    "Question.objects.filter(id=1)"
   ]
  },
  {
   "cell_type": "code",
   "execution_count": null,
   "id": "b808ea09",
   "metadata": {},
   "outputs": [],
   "source": []
  }
 ],
 "metadata": {
  "kernelspec": {
   "display_name": "Django Shell-Plus",
   "language": "python",
   "name": "django_extensions"
  },
  "language_info": {
   "codemirror_mode": {
    "name": "ipython",
    "version": 3
   },
   "file_extension": ".py",
   "mimetype": "text/x-python",
   "name": "python",
   "nbconvert_exporter": "python",
   "pygments_lexer": "ipython3",
   "version": "3.9.12"
  }
 },
 "nbformat": 4,
 "nbformat_minor": 5
}
