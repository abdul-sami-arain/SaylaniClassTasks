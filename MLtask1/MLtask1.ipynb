{
 "cells": [
  {
   "cell_type": "markdown",
   "id": "6e49cd31",
   "metadata": {},
   "source": [
    "# Supervised Machine Learning Using SKlearn:\n",
    "### Height & Weight relationship:"
   ]
  },
  {
   "cell_type": "code",
   "execution_count": 1,
   "id": "2f111040",
   "metadata": {},
   "outputs": [
    {
     "name": "stderr",
     "output_type": "stream",
     "text": [
      "Matplotlib is building the font cache; this may take a moment.\n"
     ]
    }
   ],
   "source": [
    "import pandas as pd\n",
    "import numpy as np\n",
    "import matplotlib.pyplot as plt"
   ]
  },
  {
   "cell_type": "markdown",
   "id": "53da8f24",
   "metadata": {},
   "source": [
    "### import dataset:"
   ]
  },
  {
   "cell_type": "code",
   "execution_count": 2,
   "id": "50ae1464",
   "metadata": {},
   "outputs": [],
   "source": [
    "data = pd.read_csv(\"https://raw.githubusercontent.com/EnggQasim/PGD_Batch2_Machine_Learning/main/class3_Regression_data_types/data/weight-height.csv\")"
   ]
  },
  {
   "cell_type": "code",
   "execution_count": 3,
   "id": "b418c675",
   "metadata": {},
   "outputs": [
    {
     "data": {
      "text/html": [
       "<div>\n",
       "<style scoped>\n",
       "    .dataframe tbody tr th:only-of-type {\n",
       "        vertical-align: middle;\n",
       "    }\n",
       "\n",
       "    .dataframe tbody tr th {\n",
       "        vertical-align: top;\n",
       "    }\n",
       "\n",
       "    .dataframe thead th {\n",
       "        text-align: right;\n",
       "    }\n",
       "</style>\n",
       "<table border=\"1\" class=\"dataframe\">\n",
       "  <thead>\n",
       "    <tr style=\"text-align: right;\">\n",
       "      <th></th>\n",
       "      <th>Gender</th>\n",
       "      <th>Height</th>\n",
       "      <th>Weight</th>\n",
       "    </tr>\n",
       "  </thead>\n",
       "  <tbody>\n",
       "    <tr>\n",
       "      <th>0</th>\n",
       "      <td>Male</td>\n",
       "      <td>73.847017</td>\n",
       "      <td>241.893563</td>\n",
       "    </tr>\n",
       "    <tr>\n",
       "      <th>1</th>\n",
       "      <td>Male</td>\n",
       "      <td>68.781904</td>\n",
       "      <td>162.310473</td>\n",
       "    </tr>\n",
       "    <tr>\n",
       "      <th>2</th>\n",
       "      <td>Male</td>\n",
       "      <td>74.110105</td>\n",
       "      <td>212.740856</td>\n",
       "    </tr>\n",
       "    <tr>\n",
       "      <th>3</th>\n",
       "      <td>Male</td>\n",
       "      <td>71.730978</td>\n",
       "      <td>220.042470</td>\n",
       "    </tr>\n",
       "    <tr>\n",
       "      <th>4</th>\n",
       "      <td>Male</td>\n",
       "      <td>69.881796</td>\n",
       "      <td>206.349801</td>\n",
       "    </tr>\n",
       "  </tbody>\n",
       "</table>\n",
       "</div>"
      ],
      "text/plain": [
       "  Gender     Height      Weight\n",
       "0   Male  73.847017  241.893563\n",
       "1   Male  68.781904  162.310473\n",
       "2   Male  74.110105  212.740856\n",
       "3   Male  71.730978  220.042470\n",
       "4   Male  69.881796  206.349801"
      ]
     },
     "execution_count": 3,
     "metadata": {},
     "output_type": "execute_result"
    }
   ],
   "source": [
    "data.head()"
   ]
  },
  {
   "cell_type": "code",
   "execution_count": 4,
   "id": "ac07126c",
   "metadata": {},
   "outputs": [
    {
     "name": "stdout",
     "output_type": "stream",
     "text": [
      "<class 'pandas.core.frame.DataFrame'>\n",
      "RangeIndex: 10000 entries, 0 to 9999\n",
      "Data columns (total 3 columns):\n",
      " #   Column  Non-Null Count  Dtype  \n",
      "---  ------  --------------  -----  \n",
      " 0   Gender  10000 non-null  object \n",
      " 1   Height  10000 non-null  float64\n",
      " 2   Weight  10000 non-null  float64\n",
      "dtypes: float64(2), object(1)\n",
      "memory usage: 234.5+ KB\n"
     ]
    }
   ],
   "source": [
    "data.info()"
   ]
  },
  {
   "cell_type": "code",
   "execution_count": 6,
   "id": "334a001b",
   "metadata": {},
   "outputs": [
    {
     "data": {
      "text/html": [
       "<div>\n",
       "<style scoped>\n",
       "    .dataframe tbody tr th:only-of-type {\n",
       "        vertical-align: middle;\n",
       "    }\n",
       "\n",
       "    .dataframe tbody tr th {\n",
       "        vertical-align: top;\n",
       "    }\n",
       "\n",
       "    .dataframe thead th {\n",
       "        text-align: right;\n",
       "    }\n",
       "</style>\n",
       "<table border=\"1\" class=\"dataframe\">\n",
       "  <thead>\n",
       "    <tr style=\"text-align: right;\">\n",
       "      <th></th>\n",
       "      <th>Height</th>\n",
       "      <th>Weight</th>\n",
       "    </tr>\n",
       "  </thead>\n",
       "  <tbody>\n",
       "    <tr>\n",
       "      <th>count</th>\n",
       "      <td>10000.000000</td>\n",
       "      <td>10000.000000</td>\n",
       "    </tr>\n",
       "    <tr>\n",
       "      <th>mean</th>\n",
       "      <td>66.367560</td>\n",
       "      <td>161.440357</td>\n",
       "    </tr>\n",
       "    <tr>\n",
       "      <th>std</th>\n",
       "      <td>3.847528</td>\n",
       "      <td>32.108439</td>\n",
       "    </tr>\n",
       "    <tr>\n",
       "      <th>min</th>\n",
       "      <td>54.263133</td>\n",
       "      <td>64.700127</td>\n",
       "    </tr>\n",
       "    <tr>\n",
       "      <th>25%</th>\n",
       "      <td>63.505620</td>\n",
       "      <td>135.818051</td>\n",
       "    </tr>\n",
       "    <tr>\n",
       "      <th>50%</th>\n",
       "      <td>66.318070</td>\n",
       "      <td>161.212928</td>\n",
       "    </tr>\n",
       "    <tr>\n",
       "      <th>75%</th>\n",
       "      <td>69.174262</td>\n",
       "      <td>187.169525</td>\n",
       "    </tr>\n",
       "    <tr>\n",
       "      <th>max</th>\n",
       "      <td>78.998742</td>\n",
       "      <td>269.989699</td>\n",
       "    </tr>\n",
       "  </tbody>\n",
       "</table>\n",
       "</div>"
      ],
      "text/plain": [
       "             Height        Weight\n",
       "count  10000.000000  10000.000000\n",
       "mean      66.367560    161.440357\n",
       "std        3.847528     32.108439\n",
       "min       54.263133     64.700127\n",
       "25%       63.505620    135.818051\n",
       "50%       66.318070    161.212928\n",
       "75%       69.174262    187.169525\n",
       "max       78.998742    269.989699"
      ]
     },
     "execution_count": 6,
     "metadata": {},
     "output_type": "execute_result"
    }
   ],
   "source": [
    "data.describe()"
   ]
  },
  {
   "cell_type": "markdown",
   "id": "fbc0a9f6",
   "metadata": {},
   "source": [
    "### checking null and duplicate values:"
   ]
  },
  {
   "cell_type": "code",
   "execution_count": 7,
   "id": "f0ea6bff",
   "metadata": {},
   "outputs": [
    {
     "data": {
      "text/plain": [
       "Gender    0\n",
       "Height    0\n",
       "Weight    0\n",
       "dtype: int64"
      ]
     },
     "execution_count": 7,
     "metadata": {},
     "output_type": "execute_result"
    }
   ],
   "source": [
    "data.isna().sum()"
   ]
  },
  {
   "cell_type": "code",
   "execution_count": 8,
   "id": "aab60483",
   "metadata": {},
   "outputs": [
    {
     "data": {
      "text/plain": [
       "0"
      ]
     },
     "execution_count": 8,
     "metadata": {},
     "output_type": "execute_result"
    }
   ],
   "source": [
    "data['Height'].duplicated().sum()"
   ]
  },
  {
   "cell_type": "code",
   "execution_count": 9,
   "id": "be2fd845",
   "metadata": {},
   "outputs": [
    {
     "data": {
      "text/plain": [
       "0"
      ]
     },
     "execution_count": 9,
     "metadata": {},
     "output_type": "execute_result"
    }
   ],
   "source": [
    "data['Weight'].duplicated().sum()"
   ]
  },
  {
   "cell_type": "markdown",
   "id": "424a1328",
   "metadata": {},
   "source": [
    "### Plotting data on scatter plot:"
   ]
  },
  {
   "cell_type": "code",
   "execution_count": 11,
   "id": "b94363f3",
   "metadata": {},
   "outputs": [
    {
     "data": {
      "image/png": "[encoded data removed]",
      "text/plain": [
       "<Figure size 432x288 with 1 Axes>"
      ]
     },
     "metadata": {
      "needs_background": "light"
     },
     "output_type": "display_data"
    }
   ],
   "source": [
    "data.plot(x='Height',y='Weight',style='o')\n",
    "plt.title(\"Height-Weight Relation\")\n",
    "plt.xlabel('Height')\n",
    "plt.ylabel('Weight')\n",
    "plt.show()"
   ]
  },
  {
   "cell_type": "markdown",
   "id": "6f619a1c",
   "metadata": {},
   "source": [
    "#### it is obvious from the scatter plot that there is a positive relationship between x and y"
   ]
  },
  {
   "cell_type": "markdown",
   "id": "5c67b910",
   "metadata": {},
   "source": [
    "### Preparing Data:"
   ]
  },
  {
   "cell_type": "code",
   "execution_count": 17,
   "id": "20c5b026",
   "metadata": {},
   "outputs": [],
   "source": [
    "x = np.array(data['Height']).reshape(-1,1)\n",
    "y = np.array(data['Weight']).reshape(-1,1)"
   ]
  },
  {
   "cell_type": "markdown",
   "id": "adf6992b",
   "metadata": {},
   "source": [
    "#### now we have our variables x as an independent and y as a dependent varaiable"
   ]
  },
  {
   "cell_type": "markdown",
   "id": "d213baec",
   "metadata": {},
   "source": [
    "### Splitting data into training dataset and testing dataset :"
   ]
  },
  {
   "cell_type": "code",
   "execution_count": 18,
   "id": "355a7cf4",
   "metadata": {},
   "outputs": [],
   "source": [
    "# import package of splitting data from sklearn:\n",
    "from sklearn.model_selection import train_test_split \n",
    "\n",
    "x_test,x_train,y_test,y_train = train_test_split(x,y,test_size=0.2,random_state=0)\n"
   ]
  },
  {
   "cell_type": "markdown",
   "id": "e5cc66e4",
   "metadata": {},
   "source": [
    "### Training the Algorithm:"
   ]
  },
  {
   "cell_type": "code",
   "execution_count": 19,
   "id": "54ddc9b9",
   "metadata": {},
   "outputs": [
    {
     "name": "stdout",
     "output_type": "stream",
     "text": [
      "training complete\n"
     ]
    }
   ],
   "source": [
    "from sklearn.linear_model import LinearRegression\n",
    "reg = LinearRegression()\n",
    "model = reg.fit(x_train,y_train)\n",
    "\n",
    "print(\"training complete\")"
   ]
  },
  {
   "cell_type": "markdown",
   "id": "4035166a",
   "metadata": {},
   "source": [
    "### Plotting Regression line:"
   ]
  },
  {
   "cell_type": "code",
   "execution_count": 22,
   "id": "50a61311",
   "metadata": {},
   "outputs": [
    {
     "data": {
      "image/png": "[encoded data removed]",
      "text/plain": [
       "<Figure size 432x288 with 1 Axes>"
      ]
     },
     "metadata": {
      "needs_background": "light"
     },
     "output_type": "display_data"
    }
   ],
   "source": [
    "line = reg.coef_*x+reg.intercept_\n",
    "plt.scatter(x,y)\n",
    "plt.plot(x,line,color='green')\n",
    "plt.title(\"Height-Weight Relation\")\n",
    "plt.xlabel('Height')\n",
    "plt.ylabel('Weight')\n",
    "plt.show()"
   ]
  },
  {
   "cell_type": "markdown",
   "id": "095ebd5c",
   "metadata": {},
   "source": [
    "### Making Predictions:"
   ]
  },
  {
   "cell_type": "code",
   "execution_count": 43,
   "id": "4d17f8c3",
   "metadata": {},
   "outputs": [],
   "source": [
    "y_pred = np.array(reg.predict(x_test))\n"
   ]
  },
  {
   "cell_type": "markdown",
   "id": "1c09c42a",
   "metadata": {},
   "source": [
    "### Comparing Actual data & Predicted data:"
   ]
  },
  {
   "cell_type": "code",
   "execution_count": 44,
   "id": "63b6d4d7",
   "metadata": {},
   "outputs": [],
   "source": [
    "pred_data_comparision = pd.DataFrame({'Actual':y_test.tolist(),'Predicted':y_pred.tolist()})"
   ]
  },
  {
   "cell_type": "code",
   "execution_count": 45,
   "id": "16e0b381",
   "metadata": {},
   "outputs": [
    {
     "data": {
      "text/html": [
       "<div>\n",
       "<style scoped>\n",
       "    .dataframe tbody tr th:only-of-type {\n",
       "        vertical-align: middle;\n",
       "    }\n",
       "\n",
       "    .dataframe tbody tr th {\n",
       "        vertical-align: top;\n",
       "    }\n",
       "\n",
       "    .dataframe thead th {\n",
       "        text-align: right;\n",
       "    }\n",
       "</style>\n",
       "<table border=\"1\" class=\"dataframe\">\n",
       "  <thead>\n",
       "    <tr style=\"text-align: right;\">\n",
       "      <th></th>\n",
       "      <th>Actual</th>\n",
       "      <th>Predicted</th>\n",
       "    </tr>\n",
       "  </thead>\n",
       "  <tbody>\n",
       "    <tr>\n",
       "      <th>0</th>\n",
       "      <td>[118.764518263849]</td>\n",
       "      <td>[107.12169269077305]</td>\n",
       "    </tr>\n",
       "    <tr>\n",
       "      <th>1</th>\n",
       "      <td>[156.778585962843]</td>\n",
       "      <td>[142.36648495310124]</td>\n",
       "    </tr>\n",
       "    <tr>\n",
       "      <th>2</th>\n",
       "      <td>[211.114809685062]</td>\n",
       "      <td>[213.33562655643732]</td>\n",
       "    </tr>\n",
       "    <tr>\n",
       "      <th>3</th>\n",
       "      <td>[127.616505950701]</td>\n",
       "      <td>[130.8237898415606]</td>\n",
       "    </tr>\n",
       "    <tr>\n",
       "      <th>4</th>\n",
       "      <td>[177.067774350773]</td>\n",
       "      <td>[193.30958966983542]</td>\n",
       "    </tr>\n",
       "    <tr>\n",
       "      <th>...</th>\n",
       "      <td>...</td>\n",
       "      <td>...</td>\n",
       "    </tr>\n",
       "    <tr>\n",
       "      <th>7995</th>\n",
       "      <td>[97.263880782195]</td>\n",
       "      <td>[115.28204095787612]</td>\n",
       "    </tr>\n",
       "    <tr>\n",
       "      <th>7996</th>\n",
       "      <td>[174.156893015953]</td>\n",
       "      <td>[164.17287885673431]</td>\n",
       "    </tr>\n",
       "    <tr>\n",
       "      <th>7997</th>\n",
       "      <td>[162.475957317792]</td>\n",
       "      <td>[169.87853848172927]</td>\n",
       "    </tr>\n",
       "    <tr>\n",
       "      <th>7998</th>\n",
       "      <td>[136.783022358855]</td>\n",
       "      <td>[128.5031807819542]</td>\n",
       "    </tr>\n",
       "    <tr>\n",
       "      <th>7999</th>\n",
       "      <td>[188.4506741498]</td>\n",
       "      <td>[194.13170144491335]</td>\n",
       "    </tr>\n",
       "  </tbody>\n",
       "</table>\n",
       "<p>8000 rows × 2 columns</p>\n",
       "</div>"
      ],
      "text/plain": [
       "                  Actual             Predicted\n",
       "0     [118.764518263849]  [107.12169269077305]\n",
       "1     [156.778585962843]  [142.36648495310124]\n",
       "2     [211.114809685062]  [213.33562655643732]\n",
       "3     [127.616505950701]   [130.8237898415606]\n",
       "4     [177.067774350773]  [193.30958966983542]\n",
       "...                  ...                   ...\n",
       "7995   [97.263880782195]  [115.28204095787612]\n",
       "7996  [174.156893015953]  [164.17287885673431]\n",
       "7997  [162.475957317792]  [169.87853848172927]\n",
       "7998  [136.783022358855]   [128.5031807819542]\n",
       "7999    [188.4506741498]  [194.13170144491335]\n",
       "\n",
       "[8000 rows x 2 columns]"
      ]
     },
     "execution_count": 45,
     "metadata": {},
     "output_type": "execute_result"
    }
   ],
   "source": [
    "pred_data_comparision"
   ]
  },
  {
   "cell_type": "code",
   "execution_count": 47,
   "id": "3dd5cab6",
   "metadata": {},
   "outputs": [
    {
     "name": "stdout",
     "output_type": "stream",
     "text": [
      "[[190.43534988]]\n"
     ]
    }
   ],
   "source": [
    "a = np.array(70.12).reshape(-1,1)\n",
    "own_predict = model.predict(a)\n",
    "print(own_predict)"
   ]
  },
  {
   "cell_type": "markdown",
   "id": "705b36a7",
   "metadata": {},
   "source": [
    "### Model Efficiency:"
   ]
  },
  {
   "cell_type": "code",
   "execution_count": 49,
   "id": "f61fb984",
   "metadata": {},
   "outputs": [
    {
     "data": {
      "text/plain": [
       "85.4374934990025"
      ]
     },
     "execution_count": 49,
     "metadata": {},
     "output_type": "execute_result"
    }
   ],
   "source": [
    "model.score(x_test, y_test)*100"
   ]
  },
  {
   "cell_type": "markdown",
   "id": "e04b1cb5",
   "metadata": {},
   "source": [
    "### Comment:"
   ]
  },
  {
   "cell_type": "markdown",
   "id": "a6ea5163",
   "metadata": {},
   "source": [
    "predictions from the model are 85.4374934990025% true"
   ]
  },
  {
   "cell_type": "code",
   "execution_count": null,
   "id": "3961ff6e",
   "metadata": {},
   "outputs": [],
   "source": []
  }
 ],
 "metadata": {
  "kernelspec": {
   "display_name": "Python 3 (ipykernel)",
   "language": "python",
   "name": "python3"
  },
  "language_info": {
   "codemirror_mode": {
    "name": "ipython",
    "version": 3
   },
   "file_extension": ".py",
   "mimetype": "text/x-python",
   "name": "python",
   "nbconvert_exporter": "python",
   "pygments_lexer": "ipython3",
   "version": "3.9.12"
  }
 },
 "nbformat": 4,
 "nbformat_minor": 5
}
